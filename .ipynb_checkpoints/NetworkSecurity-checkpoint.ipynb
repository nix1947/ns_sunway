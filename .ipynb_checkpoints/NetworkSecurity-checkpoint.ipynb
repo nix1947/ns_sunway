{
 "cells": [
  {
   "cell_type": "markdown",
   "metadata": {},
   "source": [
    "# One time Pad Cipher\n",
    "- Symmetric cipher\n",
    "- required length of equal to message length\n",
    "- Unbreakable cipher\n"
   ]
  },
  {
   "cell_type": "code",
   "execution_count": null,
   "metadata": {},
   "outputs": [],
   "source": [
    "message = \"ASMITHANDSOME\"\n",
    "keyword = \"RANDOMKEYWORDABC\"\n",
    "\n",
    "def encrypt(message, keyword):\n",
    "    cipher = []\n",
    "    keyword = keyword[0:len(message)]\n",
    "    for letter, kletter in zip(message, keyword):\n",
    "        ascii_letter = ord(letter)\n",
    "        ascii_keyword = ord(kletter)\n",
    "        cipher_num = ascii_letter ^ ascii_keyword\n",
    "        cipher_letter = chr(cipher_num)\n",
    "        cipher.append(cipher_letter)\n",
    "    return ''.join(cipher)\n",
    "\n",
    "\n",
    "def decode(cipher, keyword):\n",
    "    return encrypt(message=cipher, keyword=keyword)"
   ]
  },
  {
   "cell_type": "code",
   "execution_count": 26,
   "metadata": {},
   "outputs": [
    {
     "name": "stdout",
     "output_type": "stream",
     "text": [
      "Your cipher text is \u0013\u0012\u0003\r",
      "\u001b\u0005\n",
      "\u000b",
      "\u001d",
      "\u0004\u0000\u001f\u0001\n",
      "The decoded message is ASMITHANDSOME\n"
     ]
    }
   ],
   "source": [
    "cipher = encrypt(message, keyword)\n",
    "print(\"Your cipher text is\", cipher)\n",
    "plain_text = decode(cipher=cipher, keyword=keyword)\n",
    "print(\"The decoded message is\", plain_text)"
   ]
  },
  {
   "cell_type": "markdown",
   "metadata": {},
   "source": [
    "\n",
    "# RSA implementation\n",
    "- Asymmetric cipher \n",
    "- Has two keys public Key(For encryption) and Private Key(for Decrytion)\n",
    "- Used in \n",
    "    - Digital Signature (Private key signed and public key for verification)\n",
    "    - Encryption (Public key encryption and private key for decryption)\n",
    "- Also called two key cryptography, public key cryptiongraphy and asymmetric key cryptography\n"
   ]
  },
  {
   "cell_type": "code",
   "execution_count": 15,
   "metadata": {},
   "outputs": [
    {
     "name": "stdout",
     "output_type": "stream",
     "text": [
      "Value of d at, i, d, m, e 28 283.0 192 19\n"
     ]
    },
    {
     "data": {
      "text/plain": [
       "(283.0, 221)"
      ]
     },
     "execution_count": 15,
     "metadata": {},
     "output_type": "execute_result"
    }
   ],
   "source": [
    "import math \n",
    "\n",
    "def getP():\n",
    "    return 13 \n",
    "\n",
    "\n",
    "def getQ():\n",
    "    return 17 \n",
    "\n",
    "def getM():\n",
    "    p = getP()\n",
    "    q = getQ()\n",
    "    return (p -1 ) * (q - 1)\n",
    "    \n",
    "def getN():\n",
    "    p = getP()\n",
    "    q = getQ() \n",
    "    return p * q\n",
    "\n",
    "def getE():\n",
    "    # GCD(e, m) = 1 and 1 <e <m\n",
    "    private_key = 5\n",
    "    m = getM()\n",
    "    for e in range(18, m):\n",
    "        greatest_common_divisor = math.gcd(e, m)\n",
    "        if(greatest_common_divisor == 1):\n",
    "            private_key = e\n",
    "            break\n",
    "    return private_key\n",
    "    \n",
    "\n",
    "def getD():\n",
    "    # d = (1 + i * m/e)\n",
    "    private_key = 1\n",
    "    m = getM()\n",
    "    e = getE()\n",
    "    for i in range(10, m):\n",
    "        d = (1 + i * m)/e\n",
    "        if(d % 1 == 0):\n",
    "            private_key = d\n",
    "            break\n",
    "    return private_key\n",
    "            \n",
    "\n",
    "def get_private_key():\n",
    "    # PriateKey = (d, n) \n",
    "    n = getN()\n",
    "    d = getD()\n",
    "    return d, n\n",
    "\n",
    "def get_public_key():\n",
    "    # PublicKey = (e, n) \n",
    "    n = getN()\n",
    "    e = getE()\n",
    "\n",
    "    return e, n\n",
    "\n",
    "def encryption(message, public_key):\n",
    "    pass \n",
    "\n",
    "def decryption(message, private_key):\n",
    "    pass \n",
    "\n",
    "\n",
    "\n",
    "\n",
    "\n",
    "get_public_key()\n",
    "get_private_key()\n"
   ]
  }
 ],
 "metadata": {
  "kernelspec": {
   "display_name": "Python 3",
   "language": "python",
   "name": "python3"
  },
  "language_info": {
   "codemirror_mode": {
    "name": "ipython",
    "version": 3
   },
   "file_extension": ".py",
   "mimetype": "text/x-python",
   "name": "python",
   "nbconvert_exporter": "python",
   "pygments_lexer": "ipython3",
   "version": "3.7.3"
  }
 },
 "nbformat": 4,
 "nbformat_minor": 2
}
